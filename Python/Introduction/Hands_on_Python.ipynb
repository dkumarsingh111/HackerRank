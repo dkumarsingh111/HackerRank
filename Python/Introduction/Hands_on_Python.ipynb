{
 "cells": [
  {
   "cell_type": "markdown",
   "id": "be031781",
   "metadata": {
    "id": "be031781"
   },
   "source": [
    "1. Hands on Python: Notebook(Colab, Jupyter) 1st November, 2025 (11:30 - 01:00)"
   ]
  },
  {
   "cell_type": "markdown",
   "id": "2017b8fd",
   "metadata": {
    "id": "2017b8fd"
   },
   "source": [
    "### Notebooks\n",
    "1. jupyter\n",
    "2. Colab"
   ]
  },
  {
   "cell_type": "markdown",
   "id": "872637c4",
   "metadata": {
    "id": "872637c4"
   },
   "source": [
    "jupyter, download Anaconda and install it <br>\n",
    "\n",
    "Download link: [Anaconda](https://www.anaconda.com/download/)\n",
    "\n",
    "Google Colab link: [Colab](https://colab.research.google.com/)"
   ]
  },
  {
   "cell_type": "markdown",
   "id": "NvfSeDXNGA5v",
   "metadata": {
    "id": "NvfSeDXNGA5v"
   },
   "source": [
    "- Print Statement\n",
    "- Variables\n",
    "- Formatted String\n",
    "- Input from user"
   ]
  },
  {
   "cell_type": "code",
   "execution_count": 9,
   "id": "sqel_lswAKA0",
   "metadata": {
    "colab": {
     "base_uri": "https://localhost:8080/"
    },
    "executionInfo": {
     "elapsed": 8,
     "status": "ok",
     "timestamp": 1761974609554,
     "user": {
      "displayName": "Suman Bera",
      "userId": "13633309447925846459"
     },
     "user_tz": -330
    },
    "id": "sqel_lswAKA0",
    "outputId": "efc1782d-348c-4b4f-a58a-444e8524b0f6"
   },
   "outputs": [
    {
     "name": "stdout",
     "output_type": "stream",
     "text": [
      "9\n",
      "9\n"
     ]
    }
   ],
   "source": [
    "# print statement\n",
    "\n",
    "print(9)\n",
    "print(\"9\")"
   ]
  },
  {
   "cell_type": "markdown",
   "id": "145c7e70",
   "metadata": {
    "id": "145c7e70"
   },
   "source": [
    "### Variables in Python\n",
    "\n",
    "- integer\n",
    "- floating point\n",
    "- string\n",
    "- boolean\n"
   ]
  },
  {
   "cell_type": "code",
   "execution_count": null,
   "id": "rnFOiqf_E3Zj",
   "metadata": {
    "colab": {
     "base_uri": "https://localhost:8080/"
    },
    "executionInfo": {
     "elapsed": 8,
     "status": "ok",
     "timestamp": 1761974474385,
     "user": {
      "displayName": "Sujan Narvekar",
      "userId": "03050951899052687034"
     },
     "user_tz": -330
    },
    "id": "rnFOiqf_E3Zj",
    "outputId": "8fccbc7c-6139-4195-d610-790fc668a880"
   },
   "outputs": [
    {
     "name": "stdout",
     "output_type": "stream",
     "text": [
      "15\n"
     ]
    }
   ],
   "source": [
    "bucket = 15  #variable is 'store', data is 5 and the type of data is int\n",
    "print(bucket)  #()"
   ]
  },
  {
   "cell_type": "code",
   "execution_count": 10,
   "id": "1JDDAQepMFl-",
   "metadata": {
    "colab": {
     "base_uri": "https://localhost:8080/"
    },
    "executionInfo": {
     "elapsed": 225,
     "status": "ok",
     "timestamp": 1761929686825,
     "user": {
      "displayName": "Suman Bera",
      "userId": "13633309447925846459"
     },
     "user_tz": -330
    },
    "id": "1JDDAQepMFl-",
    "outputId": "2d3fdb60-c5ce-4455-a79c-77e8206d9077"
   },
   "outputs": [
    {
     "data": {
      "text/plain": [
       "15.45"
      ]
     },
     "execution_count": 10,
     "metadata": {},
     "output_type": "execute_result"
    }
   ],
   "source": [
    "float_bucket = 15.449\n",
    "round(float_bucket, 2)"
   ]
  },
  {
   "cell_type": "code",
   "execution_count": null,
   "id": "rYhID40QFl5D",
   "metadata": {
    "id": "rYhID40QFl5D"
   },
   "outputs": [],
   "source": [
    "container = '7'\n",
    "print(container)"
   ]
  },
  {
   "cell_type": "code",
   "execution_count": 3,
   "id": "s1-I3o4kAws9",
   "metadata": {
    "colab": {
     "base_uri": "https://localhost:8080/"
    },
    "executionInfo": {
     "elapsed": 13,
     "status": "ok",
     "timestamp": 1761926946617,
     "user": {
      "displayName": "Suman Bera",
      "userId": "13633309447925846459"
     },
     "user_tz": -330
    },
    "id": "s1-I3o4kAws9",
    "outputId": "75f9be0f-de63-4b3c-ba7b-3c8f621d313b"
   },
   "outputs": [
    {
     "name": "stdout",
     "output_type": "stream",
     "text": [
      "The type of age is: <class 'int'>\n",
      "My name is Deepak and I am 37 years old.\n"
     ]
    }
   ],
   "source": [
    "# F-string\n",
    "\n",
    "#An f-string (formatted string literal) in Python is a way to embed expressions (like variables or calculations)\n",
    "#directly inside a string, making string formatting cleaner and more readable.\n",
    "\n",
    "name = \"Deepak\"\n",
    "age = 37\n",
    "\n",
    "print(f\"The type of age is: {type(age)}\")\n",
    "message = f\"My name is {name} and I am {age} years old.\"\n",
    "print(message)\n"
   ]
  },
  {
   "cell_type": "code",
   "execution_count": 4,
   "id": "a8bdb2e8",
   "metadata": {
    "colab": {
     "base_uri": "https://localhost:8080/"
    },
    "executionInfo": {
     "elapsed": 3364,
     "status": "ok",
     "timestamp": 1761926104443,
     "user": {
      "displayName": "Suman Bera",
      "userId": "13633309447925846459"
     },
     "user_tz": -330
    },
    "id": "a8bdb2e8",
    "outputId": "1018f33a-a2a3-47d3-ef56-8b4a66ab8f19"
   },
   "outputs": [
    {
     "name": "stdout",
     "output_type": "stream",
     "text": [
      "Hello Deepak, how are you?\n"
     ]
    }
   ],
   "source": [
    "# Input from user in Python\n",
    "\n",
    "name = input('Hi! what is your name:')\n",
    "\n",
    "print(f'Hello {name}, how are you?')"
   ]
  },
  {
   "cell_type": "code",
   "execution_count": 5,
   "id": "0851eef2",
   "metadata": {
    "id": "0851eef2",
    "outputId": "a384e1b0-ee89-4042-be53-d0f34f494217"
   },
   "outputs": [
    {
     "name": "stdout",
     "output_type": "stream",
     "text": [
      "The total price of the products is: 1020\n"
     ]
    }
   ],
   "source": [
    "# Ask the price of two products from the user and tell the user the total price\n",
    "\n",
    "first_product_price = input('What is the price of the first prodcut?')\n",
    "\n",
    "second_prodcut_price = input('What is the price of the second product?')\n",
    "\n",
    "total_price = first_product_price + second_prodcut_price\n",
    "\n",
    "print(f'The total price of the products is: {total_price}')"
   ]
  },
  {
   "cell_type": "code",
   "execution_count": 6,
   "id": "ad53ba71",
   "metadata": {
    "id": "ad53ba71",
    "outputId": "4a15a786-482e-45f0-8dd1-1f8c37b1e234"
   },
   "outputs": [
    {
     "data": {
      "text/plain": [
       "str"
      ]
     },
     "execution_count": 6,
     "metadata": {},
     "output_type": "execute_result"
    }
   ],
   "source": [
    "type(first_product_price)"
   ]
  },
  {
   "cell_type": "code",
   "execution_count": 7,
   "id": "5b92b5be",
   "metadata": {
    "id": "5b92b5be",
    "outputId": "d336a029-a804-483b-cd7c-85b6d50b5e51"
   },
   "outputs": [
    {
     "name": "stdout",
     "output_type": "stream",
     "text": [
      "The total price of the products is: 30.0\n"
     ]
    }
   ],
   "source": [
    "# Ask the price of two products from the user and tell the user the total price\n",
    "\n",
    "first_product_price = float(input('What is the price of the first prodcut?'))\n",
    "\n",
    "second_prodcut_price = float(input('What is the price of the second product?'))\n",
    "\n",
    "total_price = first_product_price + second_prodcut_price\n",
    "\n",
    "print(f'The total price of the products is: {total_price}')"
   ]
  },
  {
   "cell_type": "code",
   "execution_count": null,
   "id": "a7dd416c",
   "metadata": {
    "id": "a7dd416c",
    "outputId": "0fae4be7-2a25-4a6b-f0a9-b9fb20ea133c"
   },
   "outputs": [
    {
     "data": {
      "text/plain": [
       "float"
      ]
     },
     "execution_count": 11,
     "metadata": {},
     "output_type": "execute_result"
    }
   ],
   "source": [
    "type(first_product_price)"
   ]
  },
  {
   "cell_type": "markdown",
   "id": "qpvGucN1GhDa",
   "metadata": {
    "id": "qpvGucN1GhDa"
   },
   "source": [
    "### List"
   ]
  },
  {
   "cell_type": "code",
   "execution_count": 11,
   "id": "e570c055",
   "metadata": {
    "colab": {
     "base_uri": "https://localhost:8080/"
    },
    "executionInfo": {
     "elapsed": 18,
     "status": "ok",
     "timestamp": 1761928201776,
     "user": {
      "displayName": "Suman Bera",
      "userId": "13633309447925846459"
     },
     "user_tz": -330
    },
    "id": "e570c055",
    "outputId": "386e470a-3a40-4767-f54d-abe2b3d9cdbc"
   },
   "outputs": [
    {
     "name": "stdout",
     "output_type": "stream",
     "text": [
      "['banana', 'apple', 'mango', 'mango']\n"
     ]
    }
   ],
   "source": [
    "# List\n",
    "\n",
    "list_a = [\"banana\", \"apple\", \"mango\", \"mango\"]\n",
    "print(list_a)"
   ]
  },
  {
   "cell_type": "code",
   "execution_count": 17,
   "id": "eea5c1f1",
   "metadata": {},
   "outputs": [
    {
     "name": "stdout",
     "output_type": "stream",
     "text": [
      "Index 0: banana\n",
      "Index 1: apple\n",
      "Index 2: mango\n",
      "Index 3: mango\n"
     ]
    }
   ],
   "source": [
    "for index, item in enumerate(list_a):\n",
    "    print(f\"Index {index}: {item}\")"
   ]
  },
  {
   "cell_type": "code",
   "execution_count": 14,
   "id": "2VJiH9DmGsxe",
   "metadata": {
    "colab": {
     "base_uri": "https://localhost:8080/"
    },
    "executionInfo": {
     "elapsed": 14,
     "status": "ok",
     "timestamp": 1761928283858,
     "user": {
      "displayName": "Suman Bera",
      "userId": "13633309447925846459"
     },
     "user_tz": -330
    },
    "id": "2VJiH9DmGsxe",
    "outputId": "d7609583-b0b9-47b8-f1ae-4248c80fc329"
   },
   "outputs": [
    {
     "data": {
      "text/plain": [
       "{'apple', 'banana', 'mango'}"
      ]
     },
     "execution_count": 14,
     "metadata": {},
     "output_type": "execute_result"
    }
   ],
   "source": [
    "\n",
    "set_a = set([\"banana\", \"apple\", \"mango\", \"mango\"])\n",
    "set_a"
   ]
  },
  {
   "cell_type": "code",
   "execution_count": null,
   "id": "6vFGE9z7G5TN",
   "metadata": {
    "colab": {
     "base_uri": "https://localhost:8080/"
    },
    "executionInfo": {
     "elapsed": 5,
     "status": "ok",
     "timestamp": 1761928301533,
     "user": {
      "displayName": "Suman Bera",
      "userId": "13633309447925846459"
     },
     "user_tz": -330
    },
    "id": "6vFGE9z7G5TN",
    "outputId": "e59c9705-1292-4690-9edd-e50833b9f011"
   },
   "outputs": [
    {
     "data": {
      "text/plain": [
       "str"
      ]
     },
     "execution_count": 20,
     "metadata": {},
     "output_type": "execute_result"
    }
   ],
   "source": [
    "type(set_a)"
   ]
  },
  {
   "cell_type": "code",
   "execution_count": null,
   "id": "kDZLO3GxGzxk",
   "metadata": {
    "id": "kDZLO3GxGzxk"
   },
   "outputs": [],
   "source": []
  },
  {
   "cell_type": "code",
   "execution_count": 16,
   "id": "c180ed2f",
   "metadata": {
    "id": "c180ed2f",
    "outputId": "df42c63f-6e98-4b64-d267-b1b5af8cc11a"
   },
   "outputs": [
    {
     "name": "stdout",
     "output_type": "stream",
     "text": [
      "['banana', 'apple', 'mango', 'mango', 'biscuit', 'cake']\n"
     ]
    }
   ],
   "source": [
    "list_b = [\"biscuit\", \"cake\"]\n",
    "# print(list_a + list_b)\n",
    "list_c = list_a + list_b\n",
    "print(list_c)"
   ]
  },
  {
   "cell_type": "code",
   "execution_count": null,
   "id": "8e195fd5",
   "metadata": {
    "id": "8e195fd5",
    "outputId": "6a98d0c5-e443-4223-c5cd-96d93c7c96da"
   },
   "outputs": [
    {
     "name": "stdout",
     "output_type": "stream",
     "text": [
      "banana\n",
      "apple\n",
      "mango\n",
      "biscuit\n",
      "cake\n"
     ]
    }
   ],
   "source": [
    "for item in list_c:\n",
    "    print(item)"
   ]
  },
  {
   "cell_type": "code",
   "execution_count": null,
   "id": "64184486",
   "metadata": {
    "id": "64184486",
    "outputId": "e9bbe41d-d160-4639-f2cc-ba0d50665459"
   },
   "outputs": [
    {
     "name": "stdout",
     "output_type": "stream",
     "text": [
      "10\n",
      "11\n",
      "12\n",
      "13\n",
      "14\n",
      "15\n",
      "16\n",
      "17\n",
      "18\n",
      "19\n"
     ]
    }
   ],
   "source": [
    "# list_of_numbers = [10, 11, 12, 13, 14, 15, 16]\n",
    "list_of_numbers = list(range(10, 20))\n",
    "\n",
    "for i in range(0, len(list_of_numbers), 1):\n",
    "    print(list_of_numbers[i])\n"
   ]
  },
  {
   "cell_type": "code",
   "execution_count": null,
   "id": "50a63397",
   "metadata": {
    "id": "50a63397",
    "outputId": "e5b24f78-8a96-414e-e6c7-d6eb9620f03c"
   },
   "outputs": [
    {
     "name": "stdout",
     "output_type": "stream",
     "text": [
      "PYTHON\n",
      "python\n",
      "pYThon\n"
     ]
    }
   ],
   "source": [
    "st = \"pYThon\"\n",
    "print(st.upper())\n",
    "print(st.lower())\n",
    "print(st)"
   ]
  },
  {
   "cell_type": "code",
   "execution_count": null,
   "id": "a6d4df02",
   "metadata": {
    "id": "a6d4df02",
    "outputId": "5d3da027-b180-4595-fcf7-abee39eaea8d"
   },
   "outputs": [
    {
     "data": {
      "text/plain": [
       "str"
      ]
     },
     "execution_count": 51,
     "metadata": {},
     "output_type": "execute_result"
    }
   ],
   "source": [
    "st = \"$100\"\n",
    "st_new = st.replace(\"$\", \"\")\n",
    "# type(st_new)\n",
    "# float(st_new)"
   ]
  },
  {
   "cell_type": "markdown",
   "id": "Wp07Ol2cJA3k",
   "metadata": {
    "id": "Wp07Ol2cJA3k"
   },
   "source": [
    "### If-Else"
   ]
  },
  {
   "cell_type": "markdown",
   "id": "CG82GI2hJC89",
   "metadata": {
    "id": "CG82GI2hJC89"
   },
   "source": [
    "✅ If-Else Statements\n",
    "if, elif, and else are used to make decisions in your program. The condition inside if is evaluated — if it’s True, that block runs. If not, Python checks the elif condition. If none are true, else runs."
   ]
  },
  {
   "cell_type": "code",
   "execution_count": null,
   "id": "xTGQB6P2JCHe",
   "metadata": {
    "colab": {
     "base_uri": "https://localhost:8080/"
    },
    "executionInfo": {
     "elapsed": 48,
     "status": "ok",
     "timestamp": 1761928837717,
     "user": {
      "displayName": "Suman Bera",
      "userId": "13633309447925846459"
     },
     "user_tz": -330
    },
    "id": "xTGQB6P2JCHe",
    "outputId": "54347dc5-b973-453b-c931-7b46feb2ff03"
   },
   "outputs": [
    {
     "name": "stdout",
     "output_type": "stream",
     "text": [
      "Positive number\n"
     ]
    }
   ],
   "source": [
    "x = 10\n",
    "\n",
    "if x > 0:\n",
    "    print(\"Positive number\")\n",
    "elif x == 0:\n",
    "    print(\"Zero\")\n",
    "else:\n",
    "    print(\"Negative number\")\n"
   ]
  },
  {
   "cell_type": "markdown",
   "id": "MJtd3tMvJK3Z",
   "metadata": {
    "id": "MJtd3tMvJK3Z"
   },
   "source": [
    "🔁 While Loop\n",
    "A while loop repeats a block of code as long as a condition is True. It's useful when the number of iterations is not fixed."
   ]
  },
  {
   "cell_type": "code",
   "execution_count": null,
   "id": "FUQv_O3BI9D7",
   "metadata": {
    "colab": {
     "base_uri": "https://localhost:8080/"
    },
    "executionInfo": {
     "elapsed": 7,
     "status": "ok",
     "timestamp": 1761928865165,
     "user": {
      "displayName": "Suman Bera",
      "userId": "13633309447925846459"
     },
     "user_tz": -330
    },
    "id": "FUQv_O3BI9D7",
    "outputId": "04c0303b-33d6-4518-9968-4d7538b6924e"
   },
   "outputs": [
    {
     "name": "stdout",
     "output_type": "stream",
     "text": [
      "Count is: 0\n",
      "Count is: 1\n",
      "Count is: 2\n"
     ]
    }
   ],
   "source": [
    "count = 0\n",
    "\n",
    "while count < 3:\n",
    "    print(\"Count is:\", count)\n",
    "    count += 1\n"
   ]
  },
  {
   "cell_type": "markdown",
   "id": "_QtEIdbOJRK1",
   "metadata": {
    "id": "_QtEIdbOJRK1"
   },
   "source": [
    "🔁 For Loop\n",
    "A for loop is used to iterate over a sequence like a list, string, or range. It's ideal when you know in advance how many times to loop."
   ]
  },
  {
   "cell_type": "code",
   "execution_count": null,
   "id": "OsCkYbToJTN-",
   "metadata": {
    "colab": {
     "base_uri": "https://localhost:8080/"
    },
    "executionInfo": {
     "elapsed": 129,
     "status": "ok",
     "timestamp": 1761928965356,
     "user": {
      "displayName": "Suman Bera",
      "userId": "13633309447925846459"
     },
     "user_tz": -330
    },
    "id": "OsCkYbToJTN-",
    "outputId": "7251aa5f-da6d-428a-f518-f98e7278fe9a"
   },
   "outputs": [
    {
     "name": "stdout",
     "output_type": "stream",
     "text": [
      "I like apple\n",
      "I like banana\n",
      "I like grapes\n"
     ]
    }
   ],
   "source": [
    "fruits = [\"apple\", \"banana\", \"grapes\"]\n",
    "\n",
    "for fruit in fruits:\n",
    "    print(\"I like\", fruit)\n"
   ]
  },
  {
   "cell_type": "code",
   "execution_count": null,
   "id": "h64HESOgM-r9",
   "metadata": {
    "colab": {
     "base_uri": "https://localhost:8080/"
    },
    "executionInfo": {
     "elapsed": 6,
     "status": "ok",
     "timestamp": 1761929853564,
     "user": {
      "displayName": "Suman Bera",
      "userId": "13633309447925846459"
     },
     "user_tz": -330
    },
    "id": "h64HESOgM-r9",
    "outputId": "8146355e-03fc-4dfc-b539-8207ab8c2a5a"
   },
   "outputs": [
    {
     "name": "stdout",
     "output_type": "stream",
     "text": [
      "After adding 1**2 = 1, total = 1\n",
      "After adding 2**2 = 4, total = 5\n",
      "After adding 3**2 = 9, total = 14\n",
      "Final sum: 14\n"
     ]
    }
   ],
   "source": [
    "s = 0  # start with a sum of 0\n",
    "\n",
    "for i in range(1, 4):  # loop from 1 to 3\n",
    "    term = i ** 2       # raise i to the power of 2 (square it)\n",
    "    s += term           # add the term to the sum\n",
    "    print(f\"After adding {i}**2 = {term}, total = {s}\")\n",
    "\n",
    "print(\"Final sum:\", s)\n"
   ]
  },
  {
   "cell_type": "markdown",
   "id": "7JN33LVqLec3",
   "metadata": {
    "id": "7JN33LVqLec3"
   },
   "source": [
    "## Python Function\n",
    "A function is a block of code which only runs when it is called.\n",
    "\n",
    "You can pass data, known as parameters, into a function.\n",
    "\n",
    "A function can return data as a result."
   ]
  },
  {
   "cell_type": "code",
   "execution_count": null,
   "id": "PmdQO2ITLaUG",
   "metadata": {
    "colab": {
     "base_uri": "https://localhost:8080/"
    },
    "executionInfo": {
     "elapsed": 45,
     "status": "ok",
     "timestamp": 1761929467408,
     "user": {
      "displayName": "Suman Bera",
      "userId": "13633309447925846459"
     },
     "user_tz": -330
    },
    "id": "PmdQO2ITLaUG",
    "outputId": "4d8e0480-f7cd-4a41-99fd-6f95bc5c09fe"
   },
   "outputs": [
    {
     "name": "stdout",
     "output_type": "stream",
     "text": [
      "IIT Kharagpur\n",
      "welome\n",
      "IIT Bombaby\n",
      "welome\n",
      "IIT Delhi\n",
      "welome\n"
     ]
    }
   ],
   "source": [
    "def fn():\n",
    "  pass\n",
    "def my_function(fname):                    #def function_name(parameter):\n",
    "  print(\"IIT \" + fname)\n",
    "  print(\"welome\")\n",
    "\n",
    "my_function(\"Kharagpur\") #function calling : function_name(argumnet)\n",
    "my_function(\"Bombaby\")\n",
    "my_function(\"Delhi\")"
   ]
  },
  {
   "cell_type": "code",
   "execution_count": null,
   "id": "maeaCK4KLi-O",
   "metadata": {
    "id": "maeaCK4KLi-O"
   },
   "outputs": [],
   "source": [
    "def countdown(n):\n",
    "    if n == 0:\n",
    "        print(\"Happy New Year!\")   # Base case\n",
    "    else:\n",
    "        print(f\"{n} seconds remaining\")\n",
    "        countdown(n - 1)      # Recursive call\n"
   ]
  },
  {
   "cell_type": "code",
   "execution_count": null,
   "id": "Y6RtqakiL0Wx",
   "metadata": {
    "colab": {
     "base_uri": "https://localhost:8080/"
    },
    "executionInfo": {
     "elapsed": 11,
     "status": "ok",
     "timestamp": 1761929553496,
     "user": {
      "displayName": "Suman Bera",
      "userId": "13633309447925846459"
     },
     "user_tz": -330
    },
    "id": "Y6RtqakiL0Wx",
    "outputId": "3d2d4ba1-46e9-4211-a204-d3e1f8e98291"
   },
   "outputs": [
    {
     "name": "stdout",
     "output_type": "stream",
     "text": [
      "10 seconds remaining\n",
      "9 seconds remaining\n",
      "8 seconds remaining\n",
      "7 seconds remaining\n",
      "6 seconds remaining\n",
      "5 seconds remaining\n",
      "4 seconds remaining\n",
      "3 seconds remaining\n",
      "2 seconds remaining\n",
      "1 seconds remaining\n",
      "Happy New Year!\n"
     ]
    }
   ],
   "source": [
    "countdown(10)"
   ]
  },
  {
   "cell_type": "code",
   "execution_count": null,
   "id": "P2sCnrzcL5K2",
   "metadata": {
    "id": "P2sCnrzcL5K2"
   },
   "outputs": [],
   "source": [
    "def factorial(n):\n",
    "    if n == 1:\n",
    "        return 1\n",
    "    else:\n",
    "        return n * factorial(n - 1)\n"
   ]
  }
 ],
 "metadata": {
  "colab": {
   "provenance": []
  },
  "kernelspec": {
   "display_name": "Python 3",
   "language": "python",
   "name": "python3"
  },
  "language_info": {
   "codemirror_mode": {
    "name": "ipython",
    "version": 3
   },
   "file_extension": ".py",
   "mimetype": "text/x-python",
   "name": "python",
   "nbconvert_exporter": "python",
   "pygments_lexer": "ipython3",
   "version": "3.13.2"
  }
 },
 "nbformat": 4,
 "nbformat_minor": 5
}
