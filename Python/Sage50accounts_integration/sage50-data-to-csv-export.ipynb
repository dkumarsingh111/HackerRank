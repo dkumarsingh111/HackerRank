{
 "cells": [
  {
   "cell_type": "markdown",
   "metadata": {},
   "source": [
    "import libraries"
   ]
  },
  {
   "cell_type": "code",
   "execution_count": 1,
   "metadata": {},
   "outputs": [],
   "source": [
    "import os\n",
    "import pyodbc\n",
    "import pandas as pd\n",
    "import warnings\n",
    "from datetime import datetime\n",
    "\n",
    "warnings.simplefilter(action=\"ignore\", category=UserWarning)"
   ]
  },
  {
   "cell_type": "markdown",
   "metadata": {},
   "source": [
    "Variables"
   ]
  },
  {
   "cell_type": "code",
   "execution_count": 2,
   "metadata": {},
   "outputs": [],
   "source": [
    "conn = None\n",
    "raw_file_path = 'C:/DB/raw_csv_files'\n",
    "\n",
    "if not os.path.exists(raw_file_path):\n",
    "    os.makedirs(raw_file_path)"
   ]
  },
  {
   "cell_type": "markdown",
   "metadata": {},
   "source": [
    "import properties"
   ]
  },
  {
   "cell_type": "code",
   "execution_count": 3,
   "metadata": {},
   "outputs": [],
   "source": [
    "import configparser\n",
    "\n",
    "config = configparser.ConfigParser()\n",
    "config.read(\"config.ini\")\n",
    "\n",
    "# Access values\n",
    "db_dsn = config.get(\"DATABASE\", \"dsn\")\n",
    "db_user = config.get(\"DATABASE\", \"username\")\n",
    "db_pass = config.get(\"DATABASE\", \"password\")\n",
    "last_run_date = config.get(\"SETTINGS\", \"last_run_date\")"
   ]
  },
  {
   "cell_type": "markdown",
   "metadata": {},
   "source": [
    "Create an odbc connection"
   ]
  },
  {
   "cell_type": "code",
   "execution_count": 4,
   "metadata": {},
   "outputs": [],
   "source": [
    "try:\n",
    "    conn = pyodbc.connect(f'DSN={db_dsn};UID={db_user};PWD={db_pass}')\n",
    "\n",
    "except pyodbc.Error as e:\n",
    "    print(\"Sage50Accounts Database connection error:\", e)"
   ]
  },
  {
   "cell_type": "markdown",
   "metadata": {},
   "source": [
    "Read each tables and covert it to csv"
   ]
  },
  {
   "cell_type": "code",
   "execution_count": 5,
   "metadata": {},
   "outputs": [],
   "source": [
    "def odbc_to_csv():         \n",
    "        cursor = conn.cursor()\n",
    "        # tables = cursor.tables()\n",
    "        tables = [row.table_name for row in cursor.tables(tableType=\"TABLE\")]\n",
    "        print(\"\\nSage50Accounts Tables:\")\n",
    "        for table in tables:\n",
    "            table_name = table\n",
    "            output_csv_path = f\"{raw_file_path}/{table_name}.csv\"            \n",
    "\n",
    "            try:\n",
    "\n",
    "                cursor.execute(f\"SELECT * FROM {table_name} WHERE 1=0\") \n",
    "                all_columns = [column[0] for column in cursor.description]\n",
    "\n",
    "                exclude_columns = []\n",
    "\n",
    "                selected_columns = [col for col in all_columns if col not in exclude_columns]\n",
    "\n",
    "                df = pd.read_sql(f'SELECT {', '.join(selected_columns)} FROM {table_name} WHERE RECORD_CREATE_DATE > \"{last_run_date}\"', conn)\n",
    "\n",
    "            except Exception as e:\n",
    "                print(f\"Error in {table_name} table export:\", e)\n",
    "                \n",
    "\n",
    "            df.to_csv(output_csv_path, index=False)\n",
    "            print(f\"Table '{table_name}' exported to '{output_csv_path}' successfully.\") \n",
    "\n",
    "\n",
    "        current_date = datetime.today().strftime(\"%Y-%m-%d %H:%M:%S\")\n",
    "        config.set(\"SETTINGS\", \"last_run_date\", current_date)\n",
    "\n",
    "        # Write changes back to the file\n",
    "        with open(\"config.ini\", \"w\") as configfile:\n",
    "            config.write(configfile)\n",
    "\n",
    "        print(\"Updated 'last_run_date' in SETTINGS section.\") \n",
    "        "
   ]
  },
  {
   "cell_type": "code",
   "execution_count": 6,
   "metadata": {},
   "outputs": [
    {
     "name": "stdout",
     "output_type": "stream",
     "text": [
      "\n",
      "Sage50Accounts Tables:\n",
      "Table 'COMPANY' exported to 'C:/DB/raw_csv_files/COMPANY.csv' successfully.\n",
      "Table 'PERIOD' exported to 'C:/DB/raw_csv_files/PERIOD.csv' successfully.\n",
      "Table 'SALES_LEDGER' exported to 'C:/DB/raw_csv_files/SALES_LEDGER.csv' successfully.\n",
      "Table 'PURCHASE_LEDGER' exported to 'C:/DB/raw_csv_files/PURCHASE_LEDGER.csv' successfully.\n",
      "Table 'NOMINAL_LEDGER' exported to 'C:/DB/raw_csv_files/NOMINAL_LEDGER.csv' successfully.\n",
      "Table 'AUDIT_HEADER' exported to 'C:/DB/raw_csv_files/AUDIT_HEADER.csv' successfully.\n",
      "Table 'AUDIT_SPLIT' exported to 'C:/DB/raw_csv_files/AUDIT_SPLIT.csv' successfully.\n",
      "Table 'AUDIT_HISTORY_HEADER' exported to 'C:/DB/raw_csv_files/AUDIT_HISTORY_HEADER.csv' successfully.\n",
      "Table 'AUDIT_HISTORY_SPLIT' exported to 'C:/DB/raw_csv_files/AUDIT_HISTORY_SPLIT.csv' successfully.\n",
      "Table 'AUDIT_HISTORY_JOURNAL' exported to 'C:/DB/raw_csv_files/AUDIT_HISTORY_JOURNAL.csv' successfully.\n",
      "Table 'AUDIT_HISTORY_USAGE' exported to 'C:/DB/raw_csv_files/AUDIT_HISTORY_USAGE.csv' successfully.\n",
      "Table 'AUDIT_JOURNAL' exported to 'C:/DB/raw_csv_files/AUDIT_JOURNAL.csv' successfully.\n",
      "Table 'AUDIT_VAT' exported to 'C:/DB/raw_csv_files/AUDIT_VAT.csv' successfully.\n",
      "Error in AUDIT_USAGE table export: month must be in 1..12\n",
      "Table 'AUDIT_USAGE' exported to 'C:/DB/raw_csv_files/AUDIT_USAGE.csv' successfully.\n",
      "Table 'DEPARTMENT' exported to 'C:/DB/raw_csv_files/DEPARTMENT.csv' successfully.\n",
      "Table 'BANK' exported to 'C:/DB/raw_csv_files/BANK.csv' successfully.\n",
      "Table 'STOCK' exported to 'C:/DB/raw_csv_files/STOCK.csv' successfully.\n",
      "Table 'STOCK_TRAN' exported to 'C:/DB/raw_csv_files/STOCK_TRAN.csv' successfully.\n",
      "Table 'STOCK_CAT' exported to 'C:/DB/raw_csv_files/STOCK_CAT.csv' successfully.\n",
      "Table 'STOCK_COMP' exported to 'C:/DB/raw_csv_files/STOCK_COMP.csv' successfully.\n",
      "Table 'INVOICE' exported to 'C:/DB/raw_csv_files/INVOICE.csv' successfully.\n",
      "Table 'SALES_ORDER' exported to 'C:/DB/raw_csv_files/SALES_ORDER.csv' successfully.\n",
      "Table 'PURCHASE_ORDER' exported to 'C:/DB/raw_csv_files/PURCHASE_ORDER.csv' successfully.\n",
      "Table 'RECURRING' exported to 'C:/DB/raw_csv_files/RECURRING.csv' successfully.\n",
      "Table 'FIXED_ASSET' exported to 'C:/DB/raw_csv_files/FIXED_ASSET.csv' successfully.\n",
      "Table 'FIXED_ASSET_CAT' exported to 'C:/DB/raw_csv_files/FIXED_ASSET_CAT.csv' successfully.\n",
      "Error in PREPAYMENT table export: month must be in 1..12\n",
      "Table 'PREPAYMENT' exported to 'C:/DB/raw_csv_files/PREPAYMENT.csv' successfully.\n",
      "Table 'ACCRUAL' exported to 'C:/DB/raw_csv_files/ACCRUAL.csv' successfully.\n",
      "Table 'INVOICE_ITEM' exported to 'C:/DB/raw_csv_files/INVOICE_ITEM.csv' successfully.\n",
      "Table 'SOP_ITEM' exported to 'C:/DB/raw_csv_files/SOP_ITEM.csv' successfully.\n",
      "Table 'POP_ITEM' exported to 'C:/DB/raw_csv_files/POP_ITEM.csv' successfully.\n",
      "Table 'SALES_DEL_ADDR' exported to 'C:/DB/raw_csv_files/SALES_DEL_ADDR.csv' successfully.\n",
      "Table 'PURCHASE_DEL_ADDR' exported to 'C:/DB/raw_csv_files/PURCHASE_DEL_ADDR.csv' successfully.\n",
      "Table 'COMPANY_DEL_ADDR' exported to 'C:/DB/raw_csv_files/COMPANY_DEL_ADDR.csv' successfully.\n",
      "Table 'PRICE' exported to 'C:/DB/raw_csv_files/PRICE.csv' successfully.\n",
      "Table 'PRICE_LIST' exported to 'C:/DB/raw_csv_files/PRICE_LIST.csv' successfully.\n",
      "Table 'GRN_ITEM' exported to 'C:/DB/raw_csv_files/GRN_ITEM.csv' successfully.\n",
      "Table 'GDN_ITEM' exported to 'C:/DB/raw_csv_files/GDN_ITEM.csv' successfully.\n",
      "Table 'PROJECT' exported to 'C:/DB/raw_csv_files/PROJECT.csv' successfully.\n",
      "Table 'PROJECT_TRAN' exported to 'C:/DB/raw_csv_files/PROJECT_TRAN.csv' successfully.\n",
      "Table 'PROJECT_ONLY_TRAN' exported to 'C:/DB/raw_csv_files/PROJECT_ONLY_TRAN.csv' successfully.\n",
      "Table 'PROJECT_STATUS' exported to 'C:/DB/raw_csv_files/PROJECT_STATUS.csv' successfully.\n",
      "Table 'PROJECT_RESOURCE' exported to 'C:/DB/raw_csv_files/PROJECT_RESOURCE.csv' successfully.\n",
      "Table 'PROJECT_RESOURCE_TYPE' exported to 'C:/DB/raw_csv_files/PROJECT_RESOURCE_TYPE.csv' successfully.\n",
      "Table 'PROJECT_COST_CODE' exported to 'C:/DB/raw_csv_files/PROJECT_COST_CODE.csv' successfully.\n",
      "Table 'PROJECT_REVENUE_CODE' exported to 'C:/DB/raw_csv_files/PROJECT_REVENUE_CODE.csv' successfully.\n",
      "Table 'PROJECT_COST_TYPE' exported to 'C:/DB/raw_csv_files/PROJECT_COST_TYPE.csv' successfully.\n",
      "Table 'PROJECT_RELATIONSHIP' exported to 'C:/DB/raw_csv_files/PROJECT_RELATIONSHIP.csv' successfully.\n",
      "Table 'PROJECT_BUDGET' exported to 'C:/DB/raw_csv_files/PROJECT_BUDGET.csv' successfully.\n",
      "Table 'CLEAR_AUDIT_TRAIL_EVENT' exported to 'C:/DB/raw_csv_files/CLEAR_AUDIT_TRAIL_EVENT.csv' successfully.\n",
      "Table 'CLEARED_TRAN_RANGE' exported to 'C:/DB/raw_csv_files/CLEARED_TRAN_RANGE.csv' successfully.\n",
      "Table 'INTRASTAT' exported to 'C:/DB/raw_csv_files/INTRASTAT.csv' successfully.\n",
      "Table 'COUNTRY_CODE' exported to 'C:/DB/raw_csv_files/COUNTRY_CODE.csv' successfully.\n",
      "Table 'DISPUTE_REASON' exported to 'C:/DB/raw_csv_files/DISPUTE_REASON.csv' successfully.\n",
      "Table 'BANK_STATEMENT' exported to 'C:/DB/raw_csv_files/BANK_STATEMENT.csv' successfully.\n",
      "Table 'BANK_STATEMENT_LINE' exported to 'C:/DB/raw_csv_files/BANK_STATEMENT_LINE.csv' successfully.\n",
      "Table 'FUND' exported to 'C:/DB/raw_csv_files/FUND.csv' successfully.\n",
      "Table 'FUND_TYPE' exported to 'C:/DB/raw_csv_files/FUND_TYPE.csv' successfully.\n",
      "Table 'SOFA_CATEGORY' exported to 'C:/DB/raw_csv_files/SOFA_CATEGORY.csv' successfully.\n",
      "Table 'STOCK_ALLOCATION' exported to 'C:/DB/raw_csv_files/STOCK_ALLOCATION.csv' successfully.\n",
      "Table 'CREDIT_BUREAU' exported to 'C:/DB/raw_csv_files/CREDIT_BUREAU.csv' successfully.\n",
      "Table 'CHART_LIST' exported to 'C:/DB/raw_csv_files/CHART_LIST.csv' successfully.\n",
      "Table 'CAT_TITLE' exported to 'C:/DB/raw_csv_files/CAT_TITLE.csv' successfully.\n",
      "Table 'CATEGORY' exported to 'C:/DB/raw_csv_files/CATEGORY.csv' successfully.\n",
      "Table 'TAX_CODE' exported to 'C:/DB/raw_csv_files/TAX_CODE.csv' successfully.\n",
      "Table 'UPDATE_LEDGER' exported to 'C:/DB/raw_csv_files/UPDATE_LEDGER.csv' successfully.\n",
      "Table 'CURRENCY' exported to 'C:/DB/raw_csv_files/CURRENCY.csv' successfully.\n",
      "Table 'VAT_SUMMARY' exported to 'C:/DB/raw_csv_files/VAT_SUMMARY.csv' successfully.\n",
      "Table 'VAT_RETURN' exported to 'C:/DB/raw_csv_files/VAT_RETURN.csv' successfully.\n",
      "Table 'RTD_SUMMARY' exported to 'C:/DB/raw_csv_files/RTD_SUMMARY.csv' successfully.\n",
      "Table 'SAGEPAY_PAY_BY_LINK' exported to 'C:/DB/raw_csv_files/SAGEPAY_PAY_BY_LINK.csv' successfully.\n",
      "Table 'FINANCIAL_BUDGET' exported to 'C:/DB/raw_csv_files/FINANCIAL_BUDGET.csv' successfully.\n",
      "Table 'CIS_RETURN' exported to 'C:/DB/raw_csv_files/CIS_RETURN.csv' successfully.\n",
      "Table 'CIS_RETURNED_TRANSACTION' exported to 'C:/DB/raw_csv_files/CIS_RETURNED_TRANSACTION.csv' successfully.\n",
      "Table 'CIS_SETTINGS' exported to 'C:/DB/raw_csv_files/CIS_SETTINGS.csv' successfully.\n",
      "Table 'CIS_SUBCONTRACTOR' exported to 'C:/DB/raw_csv_files/CIS_SUBCONTRACTOR.csv' successfully.\n",
      "Table 'CIS_SUBCONTRACTOR_LEGACY' exported to 'C:/DB/raw_csv_files/CIS_SUBCONTRACTOR_LEGACY.csv' successfully.\n",
      "Table 'CIS_SUBCONTRACTOR_RETURN' exported to 'C:/DB/raw_csv_files/CIS_SUBCONTRACTOR_RETURN.csv' successfully.\n",
      "Table 'CIS_SUBCONTRACTOR_TAX_HISTORY' exported to 'C:/DB/raw_csv_files/CIS_SUBCONTRACTOR_TAX_HISTORY.csv' successfully.\n",
      "Table 'ESUBMISSION_SETTINGS' exported to 'C:/DB/raw_csv_files/ESUBMISSION_SETTINGS.csv' successfully.\n",
      "Table 'PROTX_PAYMENT' exported to 'C:/DB/raw_csv_files/PROTX_PAYMENT.csv' successfully.\n",
      "Table 'ECSALES_HEADER' exported to 'C:/DB/raw_csv_files/ECSALES_HEADER.csv' successfully.\n",
      "Table 'ECSALES_SPLIT' exported to 'C:/DB/raw_csv_files/ECSALES_SPLIT.csv' successfully.\n",
      "Table 'ECSALES_FILL' exported to 'C:/DB/raw_csv_files/ECSALES_FILL.csv' successfully.\n",
      "Table 'VAT_DETAILS' exported to 'C:/DB/raw_csv_files/VAT_DETAILS.csv' successfully.\n",
      "Table 'VAT_ADJUSTMENT' exported to 'C:/DB/raw_csv_files/VAT_ADJUSTMENT.csv' successfully.\n",
      "Table 'VAT_RETURN_RECEIPT' exported to 'C:/DB/raw_csv_files/VAT_RETURN_RECEIPT.csv' successfully.\n",
      "Table 'VAT_REV_CHARGE_HEADER' exported to 'C:/DB/raw_csv_files/VAT_REV_CHARGE_HEADER.csv' successfully.\n",
      "Table 'VAT_REV_CHARGE_RETURN' exported to 'C:/DB/raw_csv_files/VAT_REV_CHARGE_RETURN.csv' successfully.\n",
      "Table 'VAT_REV_CHARGE_DETAIL' exported to 'C:/DB/raw_csv_files/VAT_REV_CHARGE_DETAIL.csv' successfully.\n",
      "Table 'CALENDAR_EVENT' exported to 'C:/DB/raw_csv_files/CALENDAR_EVENT.csv' successfully.\n",
      "Table 'CALENDAR_EVENT_LABEL' exported to 'C:/DB/raw_csv_files/CALENDAR_EVENT_LABEL.csv' successfully.\n",
      "Table 'CALENDAR_EVENT_LOCATION' exported to 'C:/DB/raw_csv_files/CALENDAR_EVENT_LOCATION.csv' successfully.\n",
      "Table 'CALENDAR_RECURRENCE_PATTERN' exported to 'C:/DB/raw_csv_files/CALENDAR_RECURRENCE_PATTERN.csv' successfully.\n",
      "Table 'CONTACT_HISTORY' exported to 'C:/DB/raw_csv_files/CONTACT_HISTORY.csv' successfully.\n",
      "Table 'LETTER_TYPE' exported to 'C:/DB/raw_csv_files/LETTER_TYPE.csv' successfully.\n",
      "Table 'COMMUNICATION_ADDRESS' exported to 'C:/DB/raw_csv_files/COMMUNICATION_ADDRESS.csv' successfully.\n",
      "Table 'EC_VAT_DESCRIPTION' exported to 'C:/DB/raw_csv_files/EC_VAT_DESCRIPTION.csv' successfully.\n",
      "Table 'CONTACT_HISTORY_CONTACT_MAJOR_TYPE' exported to 'C:/DB/raw_csv_files/CONTACT_HISTORY_CONTACT_MAJOR_TYPE.csv' successfully.\n",
      "Table 'CONTACT_HISTORY_CONTACT_TYPE' exported to 'C:/DB/raw_csv_files/CONTACT_HISTORY_CONTACT_TYPE.csv' successfully.\n",
      "Table 'CONTACT_HISTORY_CONTACT_OUTCOME' exported to 'C:/DB/raw_csv_files/CONTACT_HISTORY_CONTACT_OUTCOME.csv' successfully.\n",
      "Table 'DELETED_RECORDS' exported to 'C:/DB/raw_csv_files/DELETED_RECORDS.csv' successfully.\n",
      "Table 'PAYMENT_METHOD' exported to 'C:/DB/raw_csv_files/PAYMENT_METHOD.csv' successfully.\n",
      "Table 'SUPPLIER_PAYMENT_INFO' exported to 'C:/DB/raw_csv_files/SUPPLIER_PAYMENT_INFO.csv' successfully.\n",
      "Table 'PAYMENT_INFO' exported to 'C:/DB/raw_csv_files/PAYMENT_INFO.csv' successfully.\n",
      "Table 'ACCOUNT_STATUS' exported to 'C:/DB/raw_csv_files/ACCOUNT_STATUS.csv' successfully.\n",
      "Table 'DIRECT_DEBIT_PAYMENT_REQUESTS' exported to 'C:/DB/raw_csv_files/DIRECT_DEBIT_PAYMENT_REQUESTS.csv' successfully.\n",
      "Table 'BANK_RECONCILIATIONS' exported to 'C:/DB/raw_csv_files/BANK_RECONCILIATIONS.csv' successfully.\n",
      "Table 'INVOICE_PAYMENTS_OUTLOOK_META_DATA' exported to 'C:/DB/raw_csv_files/INVOICE_PAYMENTS_OUTLOOK_META_DATA.csv' successfully.\n",
      "Table 'CONTROL_DATA' exported to 'C:/DB/raw_csv_files/CONTROL_DATA.csv' successfully.\n",
      "Table 'DOCUMENT_LINK' exported to 'C:/DB/raw_csv_files/DOCUMENT_LINK.csv' successfully.\n",
      "Table 'REMITTANCE' exported to 'C:/DB/raw_csv_files/REMITTANCE.csv' successfully.\n",
      "Updated 'last_run_date' in SETTINGS section.\n"
     ]
    }
   ],
   "source": [
    "if conn:\n",
    "    odbc_to_csv()\n"
   ]
  },
  {
   "cell_type": "markdown",
   "metadata": {},
   "source": [
    "Close connection"
   ]
  },
  {
   "cell_type": "code",
   "execution_count": 7,
   "metadata": {},
   "outputs": [
    {
     "name": "stdout",
     "output_type": "stream",
     "text": [
      "Connection closed.\n"
     ]
    }
   ],
   "source": [
    "if conn:\n",
    "    conn.close()\n",
    "    print(\"Connection closed.\")"
   ]
  }
 ],
 "metadata": {
  "kernelspec": {
   "display_name": "Python 3",
   "language": "python",
   "name": "python3"
  },
  "language_info": {
   "codemirror_mode": {
    "name": "ipython",
    "version": 3
   },
   "file_extension": ".py",
   "mimetype": "text/x-python",
   "name": "python",
   "nbconvert_exporter": "python",
   "pygments_lexer": "ipython3",
   "version": "3.13.1"
  }
 },
 "nbformat": 4,
 "nbformat_minor": 2
}
