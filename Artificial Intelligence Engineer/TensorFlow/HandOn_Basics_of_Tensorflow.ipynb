{
 "cells": [
  {
   "cell_type": "markdown",
   "metadata": {},
   "source": [
    "Welcome to the first Hands On Exercise on Tensor Flow. In this exercise , you will try out some basic commands that you have learnt in the course. We have created this Python Notebook with all the necessary things needed for completing this exercise. You have to write your code in between the area mentioned\n",
    "\n",
    "##Start Code\n",
    "\n",
    "Your Code here\n",
    "\n",
    "##End Code\n"
   ]
  },
  {
   "cell_type": "markdown",
   "metadata": {},
   "source": [
    "Importing the necessary libraries"
   ]
  },
  {
   "cell_type": "code",
   "execution_count": null,
   "metadata": {},
   "outputs": [],
   "source": [
    "import tensorflow as tf\n",
    "import numpy as np"
   ]
  },
  {
   "cell_type": "markdown",
   "metadata": {},
   "source": [
    "Using numpy initialize two matrix with values [1,3,4],[3,5,3],[4,5,3] and [2,5,7],[3,6,8],[2,6,9] as matrix1 and matrix2 respectively"
   ]
  },
  {
   "cell_type": "code",
   "execution_count": null,
   "metadata": {},
   "outputs": [],
   "source": [
    "## Start Code \n",
    "\n",
    "matrix1 = np.array([[1, 3, 4], [3, 5, 3], [4, 5, 3]])\n",
    "matrix2 = np.array([[2, 5, 7], [3, 6, 8], [2, 6, 9]])\n",
    "\n",
    "## End Code "
   ]
  },
  {
   "cell_type": "markdown",
   "metadata": {},
   "source": [
    "covert matrix1 and matrix2 to tensorflow object and call them as tf_mat1 and tf_mat2, make sure to specify datatype as \"float64\""
   ]
  },
  {
   "cell_type": "code",
   "execution_count": null,
   "metadata": {},
   "outputs": [],
   "source": [
    "## Start Code \n",
    "\n",
    "# tf_mat1 = tf.constant(matrix1, dtype=tf.float64)\n",
    "# tf_mat2 = tf.constant(matrix2, dtype=tf.float64)\n",
    "\n",
    "tf_mat1 = tf.convert_to_tensor(matrix1, dtype=tf.float64)\n",
    "tf_mat2 = tf.convert_to_tensor(matrix2, dtype=tf.float64)\n",
    "\n",
    "## End Code "
   ]
  },
  {
   "cell_type": "markdown",
   "metadata": {},
   "source": [
    "initialize tensorflow variables a and b with matrix tf_mat1 and tf_mat2 respectively. Also initialize all the variables before performing the operation."
   ]
  },
  {
   "cell_type": "code",
   "execution_count": null,
   "metadata": {},
   "outputs": [],
   "source": [
    "## Start Code\n",
    "\n",
    "a = tf.Variable(tf_mat1)\n",
    "b = tf.Variable(tf_mat2)\n",
    "init = tf.initializers.global_variables()\n",
    "#init = tf.initialize_all_variables()\n",
    "#init = tf.compat.v1.global_variables_initializer()\n",
    "\n",
    "## End Code "
   ]
  },
  {
   "cell_type": "markdown",
   "metadata": {},
   "source": [
    "Perform elementwise matrix multiplication on a, b and assign it to final_mat1 variable"
   ]
  },
  {
   "cell_type": "code",
   "execution_count": null,
   "metadata": {},
   "outputs": [],
   "source": [
    "## Start Code \n",
    "final_mat1 = tf.matmul(a, b)\n",
    "## End Code\n",
    "\n",
    "determinant1 = tf.matrix_determinant(final_mat1)\n",
    "\n",
    " "
   ]
  },
  {
   "cell_type": "markdown",
   "metadata": {},
   "source": [
    "Perform dot product on matrix a, and transpose of b ."
   ]
  },
  {
   "cell_type": "code",
   "execution_count": null,
   "metadata": {},
   "outputs": [],
   "source": [
    "## Start Code \n",
    "b_inv = tf.transpose(b)\n",
    "final_mat2 = tf.matmul(a, b_inv)\n",
    "## End Code \n",
    "\n",
    "determinant2 = tf.matrix_determinant(final_mat2)"
   ]
  },
  {
   "cell_type": "markdown",
   "metadata": {},
   "source": [
    "Execute the below piece of code."
   ]
  },
  {
   "cell_type": "code",
   "execution_count": null,
   "metadata": {},
   "outputs": [],
   "source": [
    "text_file = open(\"Output.txt\", \"w\")"
   ]
  },
  {
   "cell_type": "code",
   "execution_count": null,
   "metadata": {},
   "outputs": [],
   "source": [
    "with tf.Session() as sess:\n",
    "    sess.run(init)\n",
    "    with open(\"Output.txt\", \"w\") as text_file:\n",
    "        text_file.write(\"determinant1 %f\\n\" % sess.run(determinant1))\n",
    "        text_file.write(\"determinant2 %f\" % sess.run(determinant2))    "
   ]
  }
 ],
 "metadata": {
  "kernelspec": {
   "display_name": "Python 3",
   "language": "python",
   "name": "python3"
  },
  "language_info": {
   "codemirror_mode": {
    "name": "ipython",
    "version": 3
   },
   "file_extension": ".py",
   "mimetype": "text/x-python",
   "name": "python",
   "nbconvert_exporter": "python",
   "pygments_lexer": "ipython3",
   "version": "3.12.1"
  }
 },
 "nbformat": 4,
 "nbformat_minor": 2
}
