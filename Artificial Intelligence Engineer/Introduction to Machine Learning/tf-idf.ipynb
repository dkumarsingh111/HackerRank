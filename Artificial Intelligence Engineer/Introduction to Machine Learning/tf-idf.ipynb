{
 "cells": [
  {
   "cell_type": "markdown",
   "id": "f7beb10c",
   "metadata": {},
   "source": [
    "### consider below reviews"
   ]
  },
  {
   "cell_type": "code",
   "execution_count": 20,
   "id": "16017d7e",
   "metadata": {},
   "outputs": [],
   "source": [
    "review_1 = 'The movie was good and we really like it'\n",
    "review_2 = 'the movie was good but the ending was boring'\n",
    "review_3 = 'we did not like the movie as it was too lengthy'"
   ]
  },
  {
   "cell_type": "code",
   "execution_count": 21,
   "id": "f17a3a07",
   "metadata": {},
   "outputs": [],
   "source": [
    "from sklearn.feature_extraction.text import TfidfVectorizer\n",
    "import pandas as pd"
   ]
  },
  {
   "cell_type": "code",
   "execution_count": 22,
   "id": "84d8ce3b",
   "metadata": {},
   "outputs": [
    {
     "data": {
      "text/plain": [
       "scipy.sparse._csr.csr_matrix"
      ]
     },
     "execution_count": 22,
     "metadata": {},
     "output_type": "execute_result"
    }
   ],
   "source": [
    "review_list = [review_1, review_2, review_3]\n",
    "tf_vect = TfidfVectorizer(min_df=1, lowercase=True, stop_words='english')\n",
    "tf_matrix = tf_vect.fit_transform(review_list)\n",
    "type(tf_matrix)"
   ]
  },
  {
   "cell_type": "code",
   "execution_count": 23,
   "id": "3e37fe49",
   "metadata": {},
   "outputs": [
    {
     "data": {
      "text/plain": [
       "(3, 8)"
      ]
     },
     "execution_count": 23,
     "metadata": {},
     "output_type": "execute_result"
    }
   ],
   "source": [
    "tf_matrix.shape"
   ]
  },
  {
   "cell_type": "code",
   "execution_count": 24,
   "id": "3a13924a",
   "metadata": {},
   "outputs": [
    {
     "data": {
      "text/plain": [
       "array(['boring', 'did', 'ending', 'good', 'lengthy', 'like', 'movie',\n",
       "       'really'], dtype=object)"
      ]
     },
     "execution_count": 24,
     "metadata": {},
     "output_type": "execute_result"
    }
   ],
   "source": [
    "tf_names = tf_vect.get_feature_names_out()\n",
    "tf_names"
   ]
  },
  {
   "cell_type": "code",
   "execution_count": 25,
   "id": "c7dd3b1d",
   "metadata": {},
   "outputs": [
    {
     "data": {
      "text/html": [
       "<div>\n",
       "<style scoped>\n",
       "    .dataframe tbody tr th:only-of-type {\n",
       "        vertical-align: middle;\n",
       "    }\n",
       "\n",
       "    .dataframe tbody tr th {\n",
       "        vertical-align: top;\n",
       "    }\n",
       "\n",
       "    .dataframe thead th {\n",
       "        text-align: right;\n",
       "    }\n",
       "</style>\n",
       "<table border=\"1\" class=\"dataframe\">\n",
       "  <thead>\n",
       "    <tr style=\"text-align: right;\">\n",
       "      <th></th>\n",
       "      <th>boring</th>\n",
       "      <th>did</th>\n",
       "      <th>ending</th>\n",
       "      <th>good</th>\n",
       "      <th>lengthy</th>\n",
       "      <th>like</th>\n",
       "      <th>movie</th>\n",
       "      <th>really</th>\n",
       "    </tr>\n",
       "  </thead>\n",
       "  <tbody>\n",
       "    <tr>\n",
       "      <th>0</th>\n",
       "      <td>0.000000</td>\n",
       "      <td>0.000000</td>\n",
       "      <td>0.000000</td>\n",
       "      <td>0.480458</td>\n",
       "      <td>0.000000</td>\n",
       "      <td>0.480458</td>\n",
       "      <td>0.373119</td>\n",
       "      <td>0.631745</td>\n",
       "    </tr>\n",
       "    <tr>\n",
       "      <th>1</th>\n",
       "      <td>0.584483</td>\n",
       "      <td>0.000000</td>\n",
       "      <td>0.584483</td>\n",
       "      <td>0.444514</td>\n",
       "      <td>0.000000</td>\n",
       "      <td>0.000000</td>\n",
       "      <td>0.345205</td>\n",
       "      <td>0.000000</td>\n",
       "    </tr>\n",
       "    <tr>\n",
       "      <th>2</th>\n",
       "      <td>0.000000</td>\n",
       "      <td>0.584483</td>\n",
       "      <td>0.000000</td>\n",
       "      <td>0.000000</td>\n",
       "      <td>0.584483</td>\n",
       "      <td>0.444514</td>\n",
       "      <td>0.345205</td>\n",
       "      <td>0.000000</td>\n",
       "    </tr>\n",
       "  </tbody>\n",
       "</table>\n",
       "</div>"
      ],
      "text/plain": [
       "     boring       did    ending      good   lengthy      like     movie  \\\n",
       "0  0.000000  0.000000  0.000000  0.480458  0.000000  0.480458  0.373119   \n",
       "1  0.584483  0.000000  0.584483  0.444514  0.000000  0.000000  0.345205   \n",
       "2  0.000000  0.584483  0.000000  0.000000  0.584483  0.444514  0.345205   \n",
       "\n",
       "     really  \n",
       "0  0.631745  \n",
       "1  0.000000  \n",
       "2  0.000000  "
      ]
     },
     "execution_count": 25,
     "metadata": {},
     "output_type": "execute_result"
    }
   ],
   "source": [
    "tf_df = pd.DataFrame(tf_matrix.toarray(), columns=tf_names)\n",
    "tf_df"
   ]
  }
 ],
 "metadata": {
  "kernelspec": {
   "display_name": "Python 3",
   "language": "python",
   "name": "python3"
  },
  "language_info": {
   "codemirror_mode": {
    "name": "ipython",
    "version": 3
   },
   "file_extension": ".py",
   "mimetype": "text/x-python",
   "name": "python",
   "nbconvert_exporter": "python",
   "pygments_lexer": "ipython3",
   "version": "3.13.2"
  }
 },
 "nbformat": 4,
 "nbformat_minor": 5
}
