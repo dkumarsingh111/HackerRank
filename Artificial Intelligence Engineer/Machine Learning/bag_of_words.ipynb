{
 "cells": [
  {
   "cell_type": "markdown",
   "id": "2ac70479",
   "metadata": {},
   "source": [
    "### consider below reviews"
   ]
  },
  {
   "cell_type": "code",
   "execution_count": 39,
   "id": "8653d2be",
   "metadata": {},
   "outputs": [],
   "source": [
    "review_1 = 'The movie was good and we really like it'\n",
    "review_2 = 'the movie was good but the ending was boring'\n",
    "review_3 = 'we did not like the movie as it was too lengthy'"
   ]
  },
  {
   "cell_type": "markdown",
   "id": "3eb54618",
   "metadata": {},
   "source": [
    "### creating tokens"
   ]
  },
  {
   "cell_type": "code",
   "execution_count": 40,
   "id": "0c3d69ce",
   "metadata": {},
   "outputs": [],
   "source": [
    "import pandas as pd\n",
    "import numpy as np\n",
    "import nltk\n",
    "from nltk import word_tokenize"
   ]
  },
  {
   "cell_type": "code",
   "execution_count": 41,
   "id": "8645b14d",
   "metadata": {},
   "outputs": [],
   "source": [
    "review_1_tokens = word_tokenize(review_1)\n",
    "review_2_tokens = word_tokenize(review_2)\n",
    "review_3_tokens = word_tokenize(review_3)"
   ]
  },
  {
   "cell_type": "markdown",
   "id": "3f10bcea",
   "metadata": {},
   "source": [
    "### Join all the reviews by creating a set to get all unique words"
   ]
  },
  {
   "cell_type": "code",
   "execution_count": 42,
   "id": "b106caf6",
   "metadata": {},
   "outputs": [
    {
     "data": {
      "text/plain": [
       "{'The',\n",
       " 'and',\n",
       " 'as',\n",
       " 'boring',\n",
       " 'but',\n",
       " 'did',\n",
       " 'ending',\n",
       " 'good',\n",
       " 'it',\n",
       " 'lengthy',\n",
       " 'like',\n",
       " 'movie',\n",
       " 'not',\n",
       " 'really',\n",
       " 'the',\n",
       " 'too',\n",
       " 'was',\n",
       " 'we'}"
      ]
     },
     "execution_count": 42,
     "metadata": {},
     "output_type": "execute_result"
    }
   ],
   "source": [
    "review_tokens = set(review_1_tokens).union(set(review_2_tokens)).union(set(review_3_tokens))\n",
    "\n",
    "len(review_tokens)\n",
    "\n",
    "review_tokens"
   ]
  },
  {
   "cell_type": "markdown",
   "id": "50f254f7",
   "metadata": {},
   "source": [
    "### Processing tokens"
   ]
  },
  {
   "cell_type": "code",
   "execution_count": 43,
   "id": "f017e092",
   "metadata": {},
   "outputs": [
    {
     "data": {
      "text/plain": [
       "{'was': 0,\n",
       " 'we': 0,\n",
       " 'really': 0,\n",
       " 'it': 0,\n",
       " 'did': 0,\n",
       " 'not': 0,\n",
       " 'good': 0,\n",
       " 'movie': 0,\n",
       " 'ending': 0,\n",
       " 'but': 0,\n",
       " 'like': 0,\n",
       " 'and': 0,\n",
       " 'lengthy': 0,\n",
       " 'as': 0,\n",
       " 'too': 0,\n",
       " 'boring': 0,\n",
       " 'The': 0,\n",
       " 'the': 0}"
      ]
     },
     "execution_count": 43,
     "metadata": {},
     "output_type": "execute_result"
    }
   ],
   "source": [
    "review1_dict = dict.fromkeys(review_tokens, 0)\n",
    "\n",
    "review1_dict"
   ]
  },
  {
   "cell_type": "code",
   "execution_count": 44,
   "id": "7d1daf6d",
   "metadata": {},
   "outputs": [
    {
     "data": {
      "text/plain": [
       "{'was': 0,\n",
       " 'we': 0,\n",
       " 'really': 0,\n",
       " 'it': 0,\n",
       " 'did': 0,\n",
       " 'not': 0,\n",
       " 'good': 0,\n",
       " 'movie': 0,\n",
       " 'ending': 0,\n",
       " 'but': 0,\n",
       " 'like': 0,\n",
       " 'and': 0,\n",
       " 'lengthy': 0,\n",
       " 'as': 0,\n",
       " 'too': 0,\n",
       " 'boring': 0,\n",
       " 'The': 0,\n",
       " 'the': 0}"
      ]
     },
     "execution_count": 44,
     "metadata": {},
     "output_type": "execute_result"
    }
   ],
   "source": [
    "review2_dict = dict.fromkeys(review_tokens, 0)\n",
    "\n",
    "review2_dict"
   ]
  },
  {
   "cell_type": "code",
   "execution_count": 45,
   "id": "c15edb2d",
   "metadata": {},
   "outputs": [
    {
     "data": {
      "text/plain": [
       "{'was': 0,\n",
       " 'we': 0,\n",
       " 'really': 0,\n",
       " 'it': 0,\n",
       " 'did': 0,\n",
       " 'not': 0,\n",
       " 'good': 0,\n",
       " 'movie': 0,\n",
       " 'ending': 0,\n",
       " 'but': 0,\n",
       " 'like': 0,\n",
       " 'and': 0,\n",
       " 'lengthy': 0,\n",
       " 'as': 0,\n",
       " 'too': 0,\n",
       " 'boring': 0,\n",
       " 'The': 0,\n",
       " 'the': 0}"
      ]
     },
     "execution_count": 45,
     "metadata": {},
     "output_type": "execute_result"
    }
   ],
   "source": [
    "review3_dict = dict.fromkeys(review_tokens, 0)\n",
    "\n",
    "review3_dict"
   ]
  },
  {
   "cell_type": "markdown",
   "id": "fbcccdee",
   "metadata": {},
   "source": [
    "### adding count to the token"
   ]
  },
  {
   "cell_type": "code",
   "execution_count": 46,
   "id": "acb4d629",
   "metadata": {},
   "outputs": [
    {
     "data": {
      "text/plain": [
       "{'was': 1,\n",
       " 'we': 1,\n",
       " 'really': 1,\n",
       " 'it': 1,\n",
       " 'did': 0,\n",
       " 'not': 0,\n",
       " 'good': 1,\n",
       " 'movie': 1,\n",
       " 'ending': 0,\n",
       " 'but': 0,\n",
       " 'like': 1,\n",
       " 'and': 1,\n",
       " 'lengthy': 0,\n",
       " 'as': 0,\n",
       " 'too': 0,\n",
       " 'boring': 0,\n",
       " 'The': 1,\n",
       " 'the': 0}"
      ]
     },
     "execution_count": 46,
     "metadata": {},
     "output_type": "execute_result"
    }
   ],
   "source": [
    "for token in review_1_tokens:\n",
    "    review1_dict[token] += 1\n",
    "\n",
    "\n",
    "review1_dict"
   ]
  },
  {
   "cell_type": "code",
   "execution_count": 47,
   "id": "c615c615",
   "metadata": {},
   "outputs": [],
   "source": [
    "for token in review_2_tokens:\n",
    "    review2_dict[token] += 1\n",
    "\n",
    "\n",
    "for token in review_3_tokens:\n",
    "    review3_dict[token] += 1\n",
    "\n"
   ]
  },
  {
   "cell_type": "markdown",
   "id": "4d47cbe7",
   "metadata": {},
   "source": [
    "### Creating and consolidated dataframe"
   ]
  },
  {
   "cell_type": "code",
   "execution_count": 48,
   "id": "6e50e9f7",
   "metadata": {},
   "outputs": [
    {
     "data": {
      "text/html": [
       "<div>\n",
       "<style scoped>\n",
       "    .dataframe tbody tr th:only-of-type {\n",
       "        vertical-align: middle;\n",
       "    }\n",
       "\n",
       "    .dataframe tbody tr th {\n",
       "        vertical-align: top;\n",
       "    }\n",
       "\n",
       "    .dataframe thead th {\n",
       "        text-align: right;\n",
       "    }\n",
       "</style>\n",
       "<table border=\"1\" class=\"dataframe\">\n",
       "  <thead>\n",
       "    <tr style=\"text-align: right;\">\n",
       "      <th></th>\n",
       "      <th>was</th>\n",
       "      <th>we</th>\n",
       "      <th>really</th>\n",
       "      <th>it</th>\n",
       "      <th>did</th>\n",
       "      <th>not</th>\n",
       "      <th>good</th>\n",
       "      <th>movie</th>\n",
       "      <th>ending</th>\n",
       "      <th>but</th>\n",
       "      <th>like</th>\n",
       "      <th>and</th>\n",
       "      <th>lengthy</th>\n",
       "      <th>as</th>\n",
       "      <th>too</th>\n",
       "      <th>boring</th>\n",
       "      <th>The</th>\n",
       "      <th>the</th>\n",
       "    </tr>\n",
       "  </thead>\n",
       "  <tbody>\n",
       "    <tr>\n",
       "      <th>0</th>\n",
       "      <td>1</td>\n",
       "      <td>1</td>\n",
       "      <td>1</td>\n",
       "      <td>1</td>\n",
       "      <td>0</td>\n",
       "      <td>0</td>\n",
       "      <td>1</td>\n",
       "      <td>1</td>\n",
       "      <td>0</td>\n",
       "      <td>0</td>\n",
       "      <td>1</td>\n",
       "      <td>1</td>\n",
       "      <td>0</td>\n",
       "      <td>0</td>\n",
       "      <td>0</td>\n",
       "      <td>0</td>\n",
       "      <td>1</td>\n",
       "      <td>0</td>\n",
       "    </tr>\n",
       "    <tr>\n",
       "      <th>1</th>\n",
       "      <td>2</td>\n",
       "      <td>0</td>\n",
       "      <td>0</td>\n",
       "      <td>0</td>\n",
       "      <td>0</td>\n",
       "      <td>0</td>\n",
       "      <td>1</td>\n",
       "      <td>1</td>\n",
       "      <td>1</td>\n",
       "      <td>1</td>\n",
       "      <td>0</td>\n",
       "      <td>0</td>\n",
       "      <td>0</td>\n",
       "      <td>0</td>\n",
       "      <td>0</td>\n",
       "      <td>1</td>\n",
       "      <td>0</td>\n",
       "      <td>2</td>\n",
       "    </tr>\n",
       "    <tr>\n",
       "      <th>2</th>\n",
       "      <td>1</td>\n",
       "      <td>1</td>\n",
       "      <td>0</td>\n",
       "      <td>1</td>\n",
       "      <td>1</td>\n",
       "      <td>1</td>\n",
       "      <td>0</td>\n",
       "      <td>1</td>\n",
       "      <td>0</td>\n",
       "      <td>0</td>\n",
       "      <td>1</td>\n",
       "      <td>0</td>\n",
       "      <td>1</td>\n",
       "      <td>1</td>\n",
       "      <td>1</td>\n",
       "      <td>0</td>\n",
       "      <td>0</td>\n",
       "      <td>1</td>\n",
       "    </tr>\n",
       "  </tbody>\n",
       "</table>\n",
       "</div>"
      ],
      "text/plain": [
       "   was  we  really  it  did  not  good  movie  ending  but  like  and  \\\n",
       "0    1   1       1   1    0    0     1      1       0    0     1    1   \n",
       "1    2   0       0   0    0    0     1      1       1    1     0    0   \n",
       "2    1   1       0   1    1    1     0      1       0    0     1    0   \n",
       "\n",
       "   lengthy  as  too  boring  The  the  \n",
       "0        0   0    0       0    1    0  \n",
       "1        0   0    0       1    0    2  \n",
       "2        1   1    1       0    0    1  "
      ]
     },
     "execution_count": 48,
     "metadata": {},
     "output_type": "execute_result"
    }
   ],
   "source": [
    "reviews_dict_df = pd.DataFrame([review1_dict, review2_dict, review3_dict])\n",
    "reviews_dict_df"
   ]
  },
  {
   "cell_type": "code",
   "execution_count": null,
   "id": "7c4d94ad",
   "metadata": {},
   "outputs": [],
   "source": []
  }
 ],
 "metadata": {
  "kernelspec": {
   "display_name": "Python 3",
   "language": "python",
   "name": "python3"
  },
  "language_info": {
   "codemirror_mode": {
    "name": "ipython",
    "version": 3
   },
   "file_extension": ".py",
   "mimetype": "text/x-python",
   "name": "python",
   "nbconvert_exporter": "python",
   "pygments_lexer": "ipython3",
   "version": "3.13.2"
  }
 },
 "nbformat": 4,
 "nbformat_minor": 5
}
